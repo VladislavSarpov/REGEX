{
 "cells": [
  {
   "cell_type": "markdown",
   "metadata": {},
   "source": [
    "Задание 1\n",
    "Напишите функцию, которая принимает на вход строку и проверяет является ли она валидным\n",
    "транспортным номером (1 буква, 3 цифры, 2 буквы, 2-3 цифры). \n",
    "Обратите внимание, что не все буквы кириллического алфавита используются в транспортных номерах.\n",
    "\n",
    "Если номер валиден, то функция должна возвращать отдельно номер и регион.\n",
    "\n",
    "Примеры работы программы:\n",
    "\n",
    "car_id = 'АВ222С96'\n",
    "Результат: Номер АВ222С валиден. Регион: 96\n",
    "\n",
    "car_id = 'АБ22ВВ193'\n",
    "Результат: Номер не валиден\n"
   ]
  },
  {
   "cell_type": "code",
   "execution_count": 1,
   "metadata": {},
   "outputs": [
    {
     "name": "stdout",
     "output_type": "stream",
     "text": [
      "Результат: Номер A222GE валиден. Регион: 177\n"
     ]
    }
   ],
   "source": [
    "import re\n",
    "def get_valid_number(car_id):\n",
    "    pattern = r'^([A-Za-zА-Яа-я]{1}\\d{3}[A-Za-zА-Яа-я]{2})(\\d{2,3})$'\n",
    "    result = re.findall(pattern, car_id)\n",
    "    if len(result) == 0:\n",
    "        return (None, None)\n",
    "    return result[0]\n",
    "\n",
    "num, reg = get_valid_number('A222GE177')\n",
    "if num is not None:\n",
    "    print('Результат: Номер {} валиден. Регион: {}'.format(num, reg))\n",
    "else:\n",
    "    print('Результат: Номер не валиден')"
   ]
  },
  {
   "cell_type": "markdown",
   "metadata": {},
   "source": [
    "Задание 2\n",
    "Напишите функцию, которая будет удалять все последовательные повторы слов из заданной строки при помощи регулярных выражений.\n",
    "\n",
    "Пример работы программы:\n",
    "\n",
    "some_string = 'Напишите функцию функцию, которая будет будет будет будет удалять все все все все последовательные повторы слов из из из из заданной строки строки при помощи регулярных выражений'\n",
    "\n",
    "Результат: Напишите функцию, которая будет удалять все последовательные повторы слов из заданной строки при помощи регулярных выражений."
   ]
  },
  {
   "cell_type": "code",
   "execution_count": 25,
   "metadata": {},
   "outputs": [
    {
     "name": "stdout",
     "output_type": "stream",
     "text": [
      "Напишите функцию которая будет удалять все последовательные повторы слов из заданной строки при помощи регулярных выражений\n"
     ]
    }
   ],
   "source": [
    "import re\n",
    "def remove_dublicates(some_string):\n",
    "    return re.sub(r'\\b([^\\W\\d_]+)(\\s+\\1)+\\b', r'\\1', re.sub(r'\\W+', ' ', some_string).strip(), flags=re.I)\n",
    "\n",
    "bq = 'Напишите функцию функцию, которая будет будет будет будет удалять все все все все последовательные повторы слов из из из из заданной строки строки при помощи регулярных выражений'\n",
    "print(remove_dublicates(bq))"
   ]
  },
  {
   "cell_type": "markdown",
   "metadata": {},
   "source": [
    "Задание 3\n",
    "Напишите функцию, которая будет возвращать акроним по переданной в нее строке со словами.\n",
    "\n",
    "Примеры работы программы:\n",
    "\n",
    "some_words = 'Информационные технологии'\n",
    "Результат: ИТ\n",
    "\n",
    "some_words = 'Near Field Communication'\n",
    "Результат: NFC"
   ]
  },
  {
   "cell_type": "code",
   "execution_count": 22,
   "metadata": {},
   "outputs": [
    {
     "name": "stdout",
     "output_type": "stream",
     "text": [
      "NFC\n"
     ]
    }
   ],
   "source": [
    "import re\n",
    "def get_acronym(some_string):\n",
    "    letters = re.findall(r'(?:^|[^A-Za-zА-Яа-я])([A-Za-zА-Яа-я])', some_words)\n",
    "    return ''.join(letters).upper()\n",
    "\n",
    "some_words = 'Near Field Communication'  # Результат: ИТ\n",
    "print (get_acronym(some_words))\n"
   ]
  },
  {
   "cell_type": "markdown",
   "metadata": {},
   "source": [
    "Задание 4\n",
    "Напишите функцию, которая будет принимать на вход список email-адресов и выводить их распределение по доменным зонам.\n",
    "\n",
    "Пример работы программы:\n",
    "\n",
    "emails = ['test@gmail.com', 'xyz@test.in', 'test@ya.ru', 'xyz@mail.ru', 'xyz@ya.ru', 'xyz@gmail.com']\n",
    "\n",
    "Результат:\n",
    "\n",
    "gmail.com: 2\n",
    "test.in: 1 \n",
    "ya.ru: 2 \n",
    "mail.ru: 1"
   ]
  },
  {
   "cell_type": "code",
   "execution_count": 23,
   "metadata": {},
   "outputs": [
    {
     "name": "stdout",
     "output_type": "stream",
     "text": [
      "gmail.com 2\n",
      "test.in 1\n",
      "ya.ru 2\n",
      "mail.ru 1\n"
     ]
    }
   ],
   "source": [
    "import re\n",
    "\n",
    "def print_domain(emails):\n",
    "    d = {}\n",
    "    for email in emails:\n",
    "        domain =  re.findall(r'@(.*)$', email)[0]\n",
    "        if domain not in d:\n",
    "            d[domain] = 1\n",
    "        else:\n",
    "            d[domain] += 1\n",
    "\n",
    "    for domain, count in d.items():\n",
    "        print (domain, count)\n",
    "\n",
    "emails = ['test@gmail.com', 'xyz@test.in', 'test@ya.ru', 'xyz@mail.ru', 'xyz@ya.ru', 'xyz@gmail.com']\n",
    "\n",
    "print_domain(emails)\n",
    "\n"
   ]
  },
  {
   "cell_type": "code",
   "execution_count": null,
   "metadata": {},
   "outputs": [],
   "source": []
  }
 ],
 "metadata": {
  "kernelspec": {
   "display_name": "Python 3",
   "language": "python",
   "name": "python3"
  },
  "language_info": {
   "codemirror_mode": {
    "name": "ipython",
    "version": 3
   },
   "file_extension": ".py",
   "mimetype": "text/x-python",
   "name": "python",
   "nbconvert_exporter": "python",
   "pygments_lexer": "ipython3",
   "version": "3.7.6"
  }
 },
 "nbformat": 4,
 "nbformat_minor": 4
}
